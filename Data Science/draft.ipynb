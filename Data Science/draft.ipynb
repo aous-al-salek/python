{
 "cells": [
  {
   "cell_type": "code",
   "execution_count": 4,
   "metadata": {},
   "outputs": [],
   "source": [
    "# Import modules\n",
    "import pandas as pd\n",
    "from sklearn.tree import DecisionTreeClassifier\n",
    "from sklearn.model_selection import train_test_split\n",
    "from sklearn.metrics import accuracy_score\n",
    "import joblib\n",
    "from sklearn import tree\n",
    "import statistics\n",
    "from sklearn.metrics import confusion_matrix, ConfusionMatrixDisplay\n",
    "from sklearn.model_selection import cross_validate\n",
    "from sklearn.model_selection import cross_val_score\n",
    "from sklearn.ensemble import RandomForestClassifier\n",
    "from sklearn.ensemble import VotingClassifier\n",
    "from sklearn.naive_bayes import GaussianNB\n",
    "from sklearn.linear_model import LogisticRegression"
   ]
  },
  {
   "cell_type": "code",
   "execution_count": 2,
   "metadata": {},
   "outputs": [],
   "source": [
    "# Import and clean the data\n",
    "dataframe = pd.read_csv('https://archive.ics.uci.edu/ml/machine-learning-databases/00383/risk_factors_cervical_cancer.csv', na_values=\"?\")\n",
    "altered_dataframe = dataframe.drop(columns=[\"STDs: Time since first diagnosis\", \"STDs: Time since last diagnosis\"])\n",
    "clean_altered_dataframe = altered_dataframe.dropna()"
   ]
  },
  {
   "cell_type": "code",
   "execution_count": 3,
   "metadata": {},
   "outputs": [],
   "source": [
    "# Split the data into features \"X\" and target values \"y\" while aggrigating target values into one\n",
    "X = clean_altered_dataframe.drop(columns=[\"Hinselmann\", \"Schiller\", \"Citology\", \"Biopsy\"])\n",
    "\n",
    "y1 = clean_altered_dataframe[\"Hinselmann\"].replace(1, True).replace(0, False)\n",
    "y2 = clean_altered_dataframe[\"Schiller\"].replace(1, True).replace(0, False)\n",
    "y3 = clean_altered_dataframe[\"Citology\"].replace(1, True).replace(0, False)\n",
    "y4 = clean_altered_dataframe[\"Biopsy\"].replace(1, True).replace(0, False)\n",
    "y = y1 + y2 + y3 + y4"
   ]
  },
  {
   "cell_type": "code",
   "execution_count": 539,
   "metadata": {},
   "outputs": [],
   "source": [
    "## Split the data into training and testing 70/30, create a model, train the model, make predections, and calculate the accuracy score\n",
    "#X_train, X_test, y_train, y_test = train_test_split(X, y, test_size=0.3)\n",
    "#\n",
    "#model = DecisionTreeClassifier()\n",
    "#model.fit(X_train, y_train)\n",
    "#\n",
    "#predictions = model.predict(X_test)\n",
    "#score = accuracy_score(y_test, predictions)\n",
    "#score"
   ]
  },
  {
   "cell_type": "code",
   "execution_count": 540,
   "metadata": {},
   "outputs": [],
   "source": [
    "##### Manual cross validation\n",
    "## Split the data into training and testing 70/30, create a model, train the model, make predections, and calculate the mean and median accuracy score in a loop\n",
    "#accuracy_score_list = []\n",
    "#\n",
    "#for x in range(0, 1500):\n",
    "#    X_train, X_test, y_train, y_test = train_test_split(X, y, test_size=0.3)\n",
    "#    model = DecisionTreeClassifier()\n",
    "#    model.fit(X_train, y_train)\n",
    "#    predictions = model.predict(X_test)\n",
    "#    score = accuracy_score(y_test, predictions)\n",
    "#    accuracy_score_list.append(score)\n",
    "#\n",
    "#m1 = statistics.mean(accuracy_score_list).round(5)\n",
    "#m2 = statistics.median(accuracy_score_list).round(5)\n",
    "#print(m1, m2)"
   ]
  },
  {
   "cell_type": "code",
   "execution_count": 541,
   "metadata": {},
   "outputs": [],
   "source": [
    "## Create a persistent model and export it as a binary file\n",
    "#model = DecisionTreeClassifier()\n",
    "#model.fit(X, y)\n",
    "#\n",
    "#joblib.dump(model, \"cancer-predictor.joblib\")"
   ]
  },
  {
   "cell_type": "code",
   "execution_count": 542,
   "metadata": {},
   "outputs": [],
   "source": [
    "## Load the persistent model and test its prediction\n",
    "#model = joblib.load(\"cancer-predictor.joblib\")\n",
    "#predictions = model.predict([X.loc[6].values, X.loc[7].values])\n",
    "#predictions"
   ]
  },
  {
   "cell_type": "code",
   "execution_count": 543,
   "metadata": {},
   "outputs": [],
   "source": [
    "## Create a model and export a visualization of it to a file\n",
    "## Install this VSCode extentions to view the graph: joaompinto.vscode-graphviz\n",
    "#model = DecisionTreeClassifier()\n",
    "#model.fit(X, y)\n",
    "#\n",
    "#class_names = []\n",
    "#for array_element in y.unique():\n",
    "#    class_names.append(str(array_element))\n",
    "#\n",
    "#tree.export_graphviz(model, out_file=\"cancer-predictor.dot\", feature_names=X.columns, class_names=sorted(class_names), label=\"all\", rounded=True, filled=True)"
   ]
  },
  {
   "cell_type": "code",
   "execution_count": 544,
   "metadata": {},
   "outputs": [
    {
     "data": {
      "text/plain": [
       "<sklearn.metrics._plot.confusion_matrix.ConfusionMatrixDisplay at 0x27e0ecfca00>"
      ]
     },
     "execution_count": 544,
     "metadata": {},
     "output_type": "execute_result"
    },
    {
     "data": {
      "image/png": "[encoded data removed]",
      "text/plain": [
       "<Figure size 432x288 with 2 Axes>"
      ]
     },
     "metadata": {
      "needs_background": "light"
     },
     "output_type": "display_data"
    }
   ],
   "source": [
    "# Create a confusion matrix\n",
    "X_train, X_test, y_train, y_test = train_test_split(X, y, test_size=0.3)\n",
    "model = DecisionTreeClassifier()\n",
    "model.fit(X_train, y_train)\n",
    "predictions = model.predict(X_test)\n",
    "\n",
    "cm = confusion_matrix(y_true=y_test, y_pred=predictions)\n",
    "cmd = ConfusionMatrixDisplay(cm)\n",
    "cmd.plot()"
   ]
  },
  {
   "cell_type": "code",
   "execution_count": 545,
   "metadata": {},
   "outputs": [
    {
     "name": "stdout",
     "output_type": "stream",
     "text": [
      "0.78807\n",
      "0.78745\n",
      "0.22902\n",
      "0.22821\n"
     ]
    }
   ],
   "source": [
    "# Cross validation\n",
    "accuracy_score_list = []\n",
    "\n",
    "for x in range(0, 1500):\n",
    "    X_train, X_test, y_train, y_test = train_test_split(X, y, test_size=0.3)\n",
    "    model = DecisionTreeClassifier()\n",
    "    scores = cross_validate(estimator=model, X=X, y=y, cv=3, scoring=\"accuracy\")\n",
    "    accuracy_score_list.append(scores[\"test_score\"].mean())\n",
    "\n",
    "print(statistics.mean(accuracy_score_list).round(5))\n",
    "print(statistics.median(accuracy_score_list).round(5))\n",
    "\n",
    "f1_score_list = []\n",
    "\n",
    "for x in range(0, 1500):\n",
    "    X_train, X_test, y_train, y_test = train_test_split(X, y, test_size=0.3)\n",
    "    model = DecisionTreeClassifier()\n",
    "    scores = cross_validate(estimator=model, X=X, y=y, cv=3, scoring=\"f1\")\n",
    "    f1_score_list.append(scores[\"test_score\"].mean())\n",
    "\n",
    "print(statistics.mean(f1_score_list).round(5))\n",
    "print(statistics.median(f1_score_list).round(5))"
   ]
  },
  {
   "cell_type": "code",
   "execution_count": 546,
   "metadata": {},
   "outputs": [
    {
     "data": {
      "text/plain": [
       "0.8208955223880597"
      ]
     },
     "execution_count": 546,
     "metadata": {},
     "output_type": "execute_result"
    }
   ],
   "source": [
    "# Using random forest ensemble learning\n",
    "X_train, X_test, y_train, y_test = train_test_split(X, y, test_size=0.3)\n",
    "model = RandomForestClassifier(n_estimators=1000)\n",
    "model.fit(X_train, y_train)\n",
    "predictions = model.predict(X_test)\n",
    "score = accuracy_score(y_test, predictions)\n",
    "score"
   ]
  },
  {
   "cell_type": "code",
   "execution_count": 595,
   "metadata": {},
   "outputs": [
    {
     "name": "stdout",
     "output_type": "stream",
     "text": [
      "0.86888\n",
      "0.86827\n",
      "0.14612\n",
      "0.14183\n"
     ]
    }
   ],
   "source": [
    "# Cross validation using random forest ensemble learning\n",
    "accuracy_score_list = []\n",
    "\n",
    "for x in range(0, 1500):\n",
    "    X_train, X_test, y_train, y_test = train_test_split(X, y, test_size=0.3)\n",
    "    model = RandomForestClassifier(n_estimators=1000)\n",
    "    scores = cross_validate(estimator=model, X=X, y=y, cv=3, scoring=\"accuracy\")\n",
    "    accuracy_score_list.append(scores[\"test_score\"].mean())\n",
    "\n",
    "print(statistics.mean(accuracy_score_list).round(5))\n",
    "print(statistics.median(accuracy_score_list).round(5))\n",
    "\n",
    "f1_score_list = []\n",
    "\n",
    "for x in range(0, 1500):\n",
    "    X_train, X_test, y_train, y_test = train_test_split(X, y, test_size=0.3)\n",
    "    model = RandomForestClassifier(n_estimators=1000)\n",
    "    scores = cross_validate(estimator=model, X=X, y=y, cv=3, scoring=\"f1\")\n",
    "    f1_score_list.append(scores[\"test_score\"].mean())\n",
    "\n",
    "print(statistics.mean(f1_score_list).round(5))\n",
    "print(statistics.median(f1_score_list).round(5))"
   ]
  },
  {
   "cell_type": "code",
   "execution_count": 594,
   "metadata": {},
   "outputs": [
    {
     "data": {
      "text/plain": [
       "<sklearn.metrics._plot.confusion_matrix.ConfusionMatrixDisplay at 0x27e13a43550>"
      ]
     },
     "execution_count": 594,
     "metadata": {},
     "output_type": "execute_result"
    },
    {
     "data": {
      "image/png": "[encoded data removed]",
      "text/plain": [
       "<Figure size 432x288 with 2 Axes>"
      ]
     },
     "metadata": {
      "needs_background": "light"
     },
     "output_type": "display_data"
    }
   ],
   "source": [
    "# Create a confusion matrix using random forest ensemble learning\n",
    "X_train, X_test, y_train, y_test = train_test_split(X, y, test_size=0.3)\n",
    "model = RandomForestClassifier(n_estimators=1000)\n",
    "model.fit(X_train, y_train)\n",
    "predictions = model.predict(X_test)\n",
    "\n",
    "cm = confusion_matrix(y_true=y_test, y_pred=predictions)\n",
    "cmd = ConfusionMatrixDisplay(cm)\n",
    "cmd.plot()"
   ]
  },
  {
   "cell_type": "code",
   "execution_count": 9,
   "metadata": {},
   "outputs": [
    {
     "name": "stdout",
     "output_type": "stream",
     "text": [
      "Accuracy: 0.87 (+/- 0.01) [Logistic Regression]\n",
      "Accuracy: 0.86 (+/- 0.01) [Random Forest]\n",
      "Accuracy: 0.23 (+/- 0.16) [naive Bayes]\n",
      "Accuracy: 0.86 (+/- 0.02) [Ensemble]\n"
     ]
    }
   ],
   "source": [
    "# Using voting classifier by combining Logistic Regression, Random Forest Classifier, and Gaussian Naive Bayes\n",
    "clf1 = LogisticRegression(random_state=1, max_iter=1000)\n",
    "clf2 = RandomForestClassifier(n_estimators=1000, random_state=1)\n",
    "clf3 = GaussianNB()\n",
    "\n",
    "eclf = VotingClassifier(estimators=[('lr', clf1), ('rf', clf2), ('gnb', clf3)], voting='hard')\n",
    "\n",
    "for clf, label in zip([clf1, clf2, clf3, eclf], ['Logistic Regression', 'Random Forest', 'naive Bayes', 'Ensemble']):\n",
    "    scores = cross_val_score(clf, X, y, scoring='accuracy', cv=5)\n",
    "    print(\"Accuracy: %0.2f (+/- %0.2f) [%s]\" % (scores.mean(), scores.std(), label))"
   ]
  },
  {
   "cell_type": "code",
   "execution_count": 47,
   "metadata": {},
   "outputs": [
    {
     "name": "stdout",
     "output_type": "stream",
     "text": [
      "0.86678\n",
      "0.86678\n",
      "0.19837\n",
      "0.19837\n"
     ]
    }
   ],
   "source": [
    "# Cross validation using voting classifier by combining Logistic Regression, Random Forest Classifier, and Gaussian Naive Bayes\n",
    "accuracy_score_list = []\n",
    "\n",
    "for x in range(0, 1500):\n",
    "    clf1 = LogisticRegression(random_state=1, max_iter=1000)\n",
    "    clf2 = RandomForestClassifier(n_estimators=1000, random_state=1)\n",
    "    clf3 = GaussianNB()\n",
    "    eclf = VotingClassifier(estimators=[('lr', clf1), ('rf', clf2), ('gnb', clf3)], voting='hard')\n",
    "    scores = cross_validate(estimator=eclf, X=X, y=y, cv=3, scoring=\"accuracy\")\n",
    "    accuracy_score_list.append(scores[\"test_score\"].mean())\n",
    "\n",
    "print(statistics.mean(accuracy_score_list).round(5))\n",
    "print(statistics.median(accuracy_score_list).round(5))\n",
    "\n",
    "f1_score_list = []\n",
    "\n",
    "for x in range(0, 1500):\n",
    "    clf1 = LogisticRegression(random_state=1, max_iter=1000)\n",
    "    clf2 = RandomForestClassifier(n_estimators=1000, random_state=1)\n",
    "    clf3 = GaussianNB()\n",
    "    eclf = VotingClassifier(estimators=[('lr', clf1), ('rf', clf2), ('gnb', clf3)], voting='hard')\n",
    "    scores = cross_validate(estimator=eclf, X=X, y=y, cv=3, scoring=\"f1\")\n",
    "    f1_score_list.append(scores[\"test_score\"].mean())\n",
    "\n",
    "print(statistics.mean(f1_score_list).round(5))\n",
    "print(statistics.median(f1_score_list).round(5))"
   ]
  },
  {
   "cell_type": "code",
   "execution_count": 46,
   "metadata": {},
   "outputs": [
    {
     "data": {
      "text/plain": [
       "<sklearn.metrics._plot.confusion_matrix.ConfusionMatrixDisplay at 0x2071eee0>"
      ]
     },
     "execution_count": 46,
     "metadata": {},
     "output_type": "execute_result"
    },
    {
     "data": {
      "image/png": "[encoded data removed]",
      "text/plain": [
       "<Figure size 432x288 with 2 Axes>"
      ]
     },
     "metadata": {
      "needs_background": "light"
     },
     "output_type": "display_data"
    }
   ],
   "source": [
    "# Create a confusion matrix using voting classifier by combining Logistic Regression, Random Forest Classifier, and Gaussian Naive Bayes\n",
    "X_train, X_test, y_train, y_test = train_test_split(X, y, test_size=0.3)\n",
    "clf1 = LogisticRegression(random_state=1, max_iter=1000)\n",
    "clf2 = RandomForestClassifier(n_estimators=1000, random_state=1)\n",
    "clf3 = GaussianNB()\n",
    "eclf = VotingClassifier(estimators=[('lr', clf1), ('rf', clf2), ('gnb', clf3)], voting='hard')\n",
    "eclf.fit(X_train, y_train)\n",
    "predictions = eclf.predict(X_test)\n",
    "\n",
    "cm = confusion_matrix(y_true=y_test, y_pred=predictions)\n",
    "cmd = ConfusionMatrixDisplay(cm)\n",
    "cmd.plot()"
   ]
  },
  {
   "cell_type": "code",
   "execution_count": null,
   "metadata": {},
   "outputs": [],
   "source": [
    "#https://scikit-learn.org/stable/unsupervised_learning.html\n",
    "#https://scikit-learn.org/stable/modules/generated/sklearn.cluster.KMeans.html"
   ]
  }
 ],
 "metadata": {
  "interpreter": {
   "hash": "ac59ebe37160ed0dfa835113d9b8498d9f09ceb179beaac4002f036b9467c963"
  },
  "kernelspec": {
   "display_name": "Python 3.9.7 64-bit",
   "name": "python3"
  },
  "language_info": {
   "codemirror_mode": {
    "name": "ipython",
    "version": 3
   },
   "file_extension": ".py",
   "mimetype": "text/x-python",
   "name": "python",
   "nbconvert_exporter": "python",
   "pygments_lexer": "ipython3",
   "version": "3.9.7"
  },
  "orig_nbformat": 4
 },
 "nbformat": 4,
 "nbformat_minor": 2
}
